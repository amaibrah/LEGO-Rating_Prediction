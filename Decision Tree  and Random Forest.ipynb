{
 "cells": [
  {
   "cell_type": "code",
   "execution_count": 1,
   "id": "8f2e4300",
   "metadata": {},
   "outputs": [],
   "source": [
    "#import needed packages\n",
    "import os\n",
    "import pandas as pd\n",
    "from pandas.plotting import scatter_matrix\n",
    "import numpy as np\n",
    "from pathlib import Path\n",
    "import matplotlib.pyplot as plt\n",
    "from mpl_toolkits.mplot3d import Axes3D\n",
    "import statsmodels.api as sm\n",
    "import statsmodels.formula.api as smf\n",
    "import seaborn as sns\n",
    "from datetime import datetime as dt\n",
    "from statsmodels.graphics.gofplots import ProbPlot\n",
    "\n",
    "import plotly.express as px\n",
    "\n",
    "import sklearn\n",
    "from sklearn.feature_selection import VarianceThreshold\n",
    "import statsmodels.api as sm\n",
    "\n",
    "from sklearn.model_selection import train_test_split\n",
    "from statsmodels.stats.outliers_influence import variance_inflation_factor\n",
    "\n",
    "from sklearn import cluster\n",
    "from sklearn.cluster import KMeans, MiniBatchKMeans\n",
    "from kneed import KneeLocator\n",
    "from sklearn.preprocessing import MinMaxScaler\n",
    "from scipy.cluster.vq import kmeans\n",
    "from scipy.spatial.distance import cdist,pdist\n",
    "from matplotlib import cm\n",
    "\n",
    "# Libraries needed for hierarchical clustering.\n",
    "from scipy import cluster\n",
    "from scipy.spatial.distance import pdist\n",
    "from scipy.cluster.hierarchy import dendrogram, linkage\n",
    "from sklearn.cluster import AgglomerativeClustering\n",
    "\n",
    "import pickle\n",
    "from sklearn.model_selection import train_test_split\n",
    "from sklearn.neighbors import KNeighborsClassifier\n",
    "from sklearn.preprocessing import scale,StandardScaler\n",
    "from sklearn.pipeline import Pipeline\n",
    "from sklearn.model_selection import cross_val_score\n",
    "from sklearn.model_selection import GridSearchCV\n",
    "from sklearn.metrics import accuracy_score, classification_report, confusion_matrix\n",
    "from sklearn import metrics\n",
    "from imblearn import under_sampling, over_sampling\n",
    "from imblearn.over_sampling import SMOTE\n",
    "from collections import Counter\n",
    "\n",
    "#import graphviz\n",
    "from sklearn import tree\n",
    "from sklearn.tree import DecisionTreeClassifier\n",
    "from sklearn.model_selection import cross_val_score\n",
    "from matplotlib.legend_handler import HandlerLine2D\n",
    "\n",
    "from collections import Counter\n",
    "from sklearn.datasets import make_classification\n",
    "from imblearn.over_sampling import SMOTE, SMOTENC\n",
    "from imblearn.combine import SMOTETomek\n",
    "from imblearn.under_sampling import RandomUnderSampler\n",
    "from imblearn.pipeline import Pipeline\n",
    "from matplotlib import pyplot"
   ]
  },
  {
   "cell_type": "code",
   "execution_count": 2,
   "id": "b95cb77d",
   "metadata": {},
   "outputs": [],
   "source": [
    "#set directory\n",
    "home_dir = Path(\".\").resolve()\n",
    "main_dir = home_dir.parent.parent\n",
    "data_dir= str(main_dir)+\"\\Data\"\n",
    "\n",
    "os.chdir(data_dir)"
   ]
  },
  {
   "cell_type": "code",
   "execution_count": 4,
   "id": "d48b66b1",
   "metadata": {},
   "outputs": [
    {
     "name": "stdout",
     "output_type": "stream",
     "text": [
      "(10165, 8)\n"
     ]
    },
    {
     "data": {
      "text/html": [
       "<div>\n",
       "<style scoped>\n",
       "    .dataframe tbody tr th:only-of-type {\n",
       "        vertical-align: middle;\n",
       "    }\n",
       "\n",
       "    .dataframe tbody tr th {\n",
       "        vertical-align: top;\n",
       "    }\n",
       "\n",
       "    .dataframe thead th {\n",
       "        text-align: right;\n",
       "    }\n",
       "</style>\n",
       "<table border=\"1\" class=\"dataframe\">\n",
       "  <thead>\n",
       "    <tr style=\"text-align: right;\">\n",
       "      <th></th>\n",
       "      <th>list_price</th>\n",
       "      <th>piece_count</th>\n",
       "      <th>num_reviews</th>\n",
       "      <th>review_difficulty</th>\n",
       "      <th>star_rating</th>\n",
       "      <th>country_num</th>\n",
       "      <th>min_age</th>\n",
       "    </tr>\n",
       "  </thead>\n",
       "  <tbody>\n",
       "    <tr>\n",
       "      <th>0</th>\n",
       "      <td>29.99</td>\n",
       "      <td>277.0</td>\n",
       "      <td>2.0</td>\n",
       "      <td>3</td>\n",
       "      <td>4.5</td>\n",
       "      <td>1</td>\n",
       "      <td>6.0</td>\n",
       "    </tr>\n",
       "    <tr>\n",
       "      <th>1</th>\n",
       "      <td>19.99</td>\n",
       "      <td>168.0</td>\n",
       "      <td>2.0</td>\n",
       "      <td>2</td>\n",
       "      <td>5.0</td>\n",
       "      <td>1</td>\n",
       "      <td>6.0</td>\n",
       "    </tr>\n",
       "    <tr>\n",
       "      <th>2</th>\n",
       "      <td>12.99</td>\n",
       "      <td>74.0</td>\n",
       "      <td>11.0</td>\n",
       "      <td>2</td>\n",
       "      <td>4.3</td>\n",
       "      <td>1</td>\n",
       "      <td>6.0</td>\n",
       "    </tr>\n",
       "    <tr>\n",
       "      <th>3</th>\n",
       "      <td>99.99</td>\n",
       "      <td>1032.0</td>\n",
       "      <td>23.0</td>\n",
       "      <td>3</td>\n",
       "      <td>4.6</td>\n",
       "      <td>1</td>\n",
       "      <td>12.0</td>\n",
       "    </tr>\n",
       "    <tr>\n",
       "      <th>4</th>\n",
       "      <td>79.99</td>\n",
       "      <td>744.0</td>\n",
       "      <td>14.0</td>\n",
       "      <td>4</td>\n",
       "      <td>4.6</td>\n",
       "      <td>1</td>\n",
       "      <td>12.0</td>\n",
       "    </tr>\n",
       "  </tbody>\n",
       "</table>\n",
       "</div>"
      ],
      "text/plain": [
       "   list_price  piece_count  num_reviews  review_difficulty  star_rating  \\\n",
       "0       29.99        277.0          2.0                  3          4.5   \n",
       "1       19.99        168.0          2.0                  2          5.0   \n",
       "2       12.99         74.0         11.0                  2          4.3   \n",
       "3       99.99       1032.0         23.0                  3          4.6   \n",
       "4       79.99        744.0         14.0                  4          4.6   \n",
       "\n",
       "   country_num  min_age  \n",
       "0            1      6.0  \n",
       "1            1      6.0  \n",
       "2            1      6.0  \n",
       "3            1     12.0  \n",
       "4            1     12.0  "
      ]
     },
     "execution_count": 4,
     "metadata": {},
     "output_type": "execute_result"
    }
   ],
   "source": [
    "lego_subset= pd.read_csv('LEGO_subset1.csv')\n",
    "print(lego_subset.shape)\n",
    "lego_subset.head()\n",
    "lego_subset= lego_subset.drop(columns=['Unnamed: 0'])\n",
    "lego_subset.head()"
   ]
  },
  {
   "cell_type": "code",
   "execution_count": 5,
   "id": "2c73ce62",
   "metadata": {},
   "outputs": [
    {
     "data": {
      "text/plain": [
       "True     5888\n",
       "False    4277\n",
       "Name: star_rating, dtype: int64"
      ]
     },
     "execution_count": 5,
     "metadata": {},
     "output_type": "execute_result"
    }
   ],
   "source": [
    "lego_subset['star_rating'] = np.where(lego_subset['star_rating'] > 4.5, True, False)\n",
    "\n",
    "columns_to_drop_from_X = ['star_rating']\n",
    "X = lego_subset.drop(columns_to_drop_from_X, axis = 1)\n",
    "y = np.array(lego_subset['star_rating'])\n",
    "\n",
    "lego_subset['star_rating'].value_counts()"
   ]
  },
  {
   "cell_type": "code",
   "execution_count": 6,
   "id": "a81a1517",
   "metadata": {},
   "outputs": [
    {
     "name": "stdout",
     "output_type": "stream",
     "text": [
      "[[-0.54189473 -0.4500459  -0.40512307 -0.54958967  0.40058758 -0.1369661 ]\n",
      " [-0.52851804 -0.41175601 -0.26131654  0.66500057 -0.90772969 -0.48343349]]\n",
      "[[-0.65782698 -0.57325371 -0.35266199  0.62979355  1.05831875 -1.18593346]\n",
      " [-0.60174978 -0.56880871 -0.37896331 -0.57678329 -0.24857823 -1.18593346]]\n"
     ]
    }
   ],
   "source": [
    "np.random.seed(1)\n",
    "X_train, X_test, y_train, y_test = train_test_split(X, y, test_size = 0.3) \n",
    "\n",
    "oversample= SMOTE()\n",
    "X_train, y_train = oversample.fit_resample(X_train, y_train)\n",
    "\n",
    "#scale X\n",
    "X_train = scale(X_train)\n",
    "X_test = scale(X_test)\n",
    "print(X_train[0:2])\n",
    "print(X_test[0:2])"
   ]
  },
  {
   "cell_type": "markdown",
   "id": "dbd64eef",
   "metadata": {},
   "source": [
    "# Decision Tree"
   ]
  },
  {
   "cell_type": "code",
   "execution_count": 7,
   "id": "06b080c8",
   "metadata": {},
   "outputs": [
    {
     "name": "stdout",
     "output_type": "stream",
     "text": [
      "DecisionTreeClassifier()\n"
     ]
    },
    {
     "data": {
      "image/png": "[encoded data removed]",
      "text/plain": [
       "<Figure size 432x288 with 1 Axes>"
      ]
     },
     "metadata": {
      "needs_background": "light"
     },
     "output_type": "display_data"
    },
    {
     "name": "stdout",
     "output_type": "stream",
     "text": [
      "(8314, 6) (8314,)\n",
      "(3050, 6) (3050,)\n"
     ]
    }
   ],
   "source": [
    "clf = tree.DecisionTreeClassifier()\n",
    "clf_fit = clf.fit(X, y)\n",
    "print(clf_fit)\n",
    "\n",
    "tree.plot_tree(clf_fit, \n",
    "              feature_names= X.columns,  \n",
    "              filled=True)\n",
    "plt.show()\n",
    "\n",
    "np.random.seed(1)\n",
    "X_train, X_test, y_train, y_test = train_test_split(X, y, test_size = 0.3)\n",
    "\n",
    "smt = SMOTE(random_state=42)\n",
    "X_train, y_train = smt.fit_resample(X_train, y_train)\n",
    "counter= Counter(y_train)\n",
    "\n",
    "print(X_train.shape, y_train.shape)\n",
    "print(X_test.shape, y_test.shape)"
   ]
  },
  {
   "cell_type": "code",
   "execution_count": 8,
   "id": "59332f10",
   "metadata": {},
   "outputs": [
    {
     "data": {
      "text/plain": [
       "array([False,  True,  True, False,  True,  True, False,  True,  True,\n",
       "       False, False, False, False,  True, False, False, False, False,\n",
       "       False, False])"
      ]
     },
     "execution_count": 8,
     "metadata": {},
     "output_type": "execute_result"
    }
   ],
   "source": [
    "clf = tree.DecisionTreeClassifier()\n",
    "clf_fit = clf.fit(X_train, y_train)\n",
    "\n",
    "# Predict on ex_X_test.\n",
    "y_predict = clf_fit.predict(X_test)\n",
    "y_predict[:20]"
   ]
  },
  {
   "cell_type": "code",
   "execution_count": 11,
   "id": "c20c25bc",
   "metadata": {},
   "outputs": [
    {
     "name": "stdout",
     "output_type": "stream",
     "text": [
      "Accuracy on test data:  0.980983606557377\n",
      "Train Accuracy: 1.0\n",
      "[0.96558505 0.98033432 0.94788594 0.99803343 0.98918387 0.98523622\n",
      " 0.99606299 0.99901575 0.99704724 0.99901575]\n",
      "cv_scores mean:0.9857400568291796\n"
     ]
    }
   ],
   "source": [
    "tree_accuracy_score = accuracy_score(y_test, y_predict)\n",
    "print(\"Accuracy on test data: \", tree_accuracy_score)\n",
    "\n",
    "# Compute accuracy using training data.\n",
    "acc_train_tree = clf_fit.score(X_train,\n",
    "                                 y_train)\n",
    "\n",
    "print (\"Train Accuracy:\", acc_train_tree)\n",
    "clf = tree.DecisionTreeClassifier()\n",
    "cv_scores = cross_val_score(clf, X, y, cv = 10)\n",
    "print(cv_scores)\n",
    "\n",
    "print('cv_scores mean:{}'.format(np.mean(cv_scores)))"
   ]
  },
  {
   "cell_type": "code",
   "execution_count": 12,
   "id": "539c9a70",
   "metadata": {},
   "outputs": [
    {
     "data": {
      "image/png": "[encoded data removed]",
      "text/plain": [
       "<Figure size 432x288 with 1 Axes>"
      ]
     },
     "metadata": {
      "needs_background": "light"
     },
     "output_type": "display_data"
    }
   ],
   "source": [
    "def optimal_parameter(values,test_results):\n",
    "    best_test_value = max(test_results)\n",
    "    best_test_index = test_results.index(best_test_value)\n",
    "    best_value = values[best_test_index]\n",
    "    return(best_value)\n",
    "  \n",
    "max_depths = np.linspace(1, 32, 32, endpoint = True)\n",
    "train_results = []\n",
    "test_results = []\n",
    "\n",
    "for max_depth in max_depths:\n",
    "   dt = DecisionTreeClassifier(max_depth = max_depth.astype(int))\n",
    "   dt.fit(X_train, y_train)\n",
    "   \n",
    "   train_pred = dt.predict(X_train)\n",
    "   acc_train = accuracy_score(y_train, train_pred)\n",
    "   \n",
    "   # Add accuracy score to previous train results\n",
    "   train_results.append(acc_train)\n",
    "   \n",
    "   y_pred = dt.predict(X_test)\n",
    "   acc_test = accuracy_score(y_test, y_pred)\n",
    "   \n",
    "   # Add accuracy score to previous test results\n",
    "   test_results.append(acc_test)\n",
    "\n",
    "# Store optimal max_depth.\n",
    "optimal_max_depth = optimal_parameter(max_depths,test_results)  \n",
    "\n",
    "# Plot max depth over 1 - 32. \n",
    "line1, = plt.plot(max_depths, train_results, 'b', label= \"Train accuracy\")\n",
    "line2, = plt.plot(max_depths, test_results, 'r', label= \"Test accuracy\")\n",
    "\n",
    "plt.legend(handler_map={line1: HandlerLine2D(numpoints = 2)})\n",
    "plt.ylabel('Accuracy')\n",
    "plt.xlabel('Tree depth')\n",
    "plt.show()"
   ]
  },
  {
   "cell_type": "code",
   "execution_count": 13,
   "id": "0aa79cc2",
   "metadata": {},
   "outputs": [],
   "source": [
    "min_samples_splits = np.linspace(0.1, 1.0, 10, endpoint=True)\n",
    "train_results = []\n",
    "test_results = []\n",
    "\n",
    "for min_samples_split in min_samples_splits:\n",
    "   dt = DecisionTreeClassifier(min_samples_split=min_samples_split)\n",
    "   dt.fit(X_train, y_train)\n",
    "   \n",
    "   train_pred = dt.predict(X_train)\n",
    "   acc_train = accuracy_score(y_train, train_pred)\n",
    "   \n",
    "   # Add accuracy score to previous train results\n",
    "   train_results.append(acc_train)\n",
    "   \n",
    "   y_pred = dt.predict(X_test)\n",
    "   acc_test = accuracy_score(y_test, y_pred)\n",
    "   \n",
    "   # Add accuracy score to previous test results\n",
    "   test_results.append(acc_test)\n",
    "\n",
    "# Store optimal max_depth.\n",
    "optimal_min_samples_split = optimal_parameter(min_samples_splits,test_results) "
   ]
  },
  {
   "cell_type": "code",
   "execution_count": 14,
   "id": "6393e4f5",
   "metadata": {},
   "outputs": [],
   "source": [
    "#optimize min samples leaf\n",
    "min_samples_leafs = np.linspace(0.1, 0.5, 5, endpoint = True)\n",
    "train_results = []\n",
    "test_results = []\n",
    "\n",
    "for min_samples_leaf in min_samples_leafs:\n",
    "   dt = DecisionTreeClassifier(min_samples_leaf=min_samples_leaf)\n",
    "   dt.fit(X_train, y_train)\n",
    "   \n",
    "   train_pred = dt.predict(X_train)\n",
    "   acc_train = accuracy_score(y_train, train_pred)\n",
    "   \n",
    "   # Add accuracy score to previous train results\n",
    "   train_results.append(acc_train)\n",
    "   \n",
    "   y_pred = dt.predict(X_test)\n",
    "   acc_test = accuracy_score(y_test, y_pred)\n",
    "   \n",
    "   # Add accuracy score to previous test results\n",
    "   test_results.append(acc_test)\n",
    "\n",
    "optimal_min_samples_leafs = optimal_parameter(min_samples_leafs, test_results)"
   ]
  },
  {
   "cell_type": "code",
   "execution_count": 15,
   "id": "8a3ec249",
   "metadata": {},
   "outputs": [
    {
     "name": "stdout",
     "output_type": "stream",
     "text": [
      "The optimal max depth is: 17.0\n",
      "The optimal min samples split is: 0.1\n",
      "The optimal min samples leaf is: 0.1\n",
      "The optimal max features is: 5\n"
     ]
    }
   ],
   "source": [
    "#optimize max features\n",
    "max_features = list(range(1,X.shape[1]))\n",
    "train_results = []\n",
    "test_results = []\n",
    "\n",
    "for max_feature in max_features:\n",
    "   dt = DecisionTreeClassifier(max_features=max_feature)\n",
    "   dt.fit(X_train, y_train)\n",
    "   \n",
    "   train_pred = dt.predict(X_train)\n",
    "   acc_train = accuracy_score(y_train, train_pred)\n",
    "   \n",
    "   # Add accuracy score to previous train results\n",
    "   train_results.append(acc_train)\n",
    "   \n",
    "   y_pred = dt.predict(X_test)\n",
    "   acc_test = accuracy_score(y_test, y_pred)\n",
    "   \n",
    "   # Add accuracy score to previous test results\n",
    "   test_results.append(acc_test)\n",
    "\n",
    "optimal_max_features = optimal_parameter(max_features, test_results) \n",
    "\n",
    "\n",
    "\n",
    "print(\"The optimal max depth is:\", optimal_max_depth)\n",
    "print(\"The optimal min samples split is:\", optimal_min_samples_split)\n",
    "print(\"The optimal min samples leaf is:\", optimal_min_samples_split)\n",
    "print(\"The optimal max features is:\", optimal_max_features)"
   ]
  },
  {
   "cell_type": "code",
   "execution_count": 16,
   "id": "d759607a",
   "metadata": {},
   "outputs": [
    {
     "name": "stdout",
     "output_type": "stream",
     "text": [
      "DecisionTreeClassifier(max_depth=17, max_features=5, min_samples_leaf=0.1,\n",
      "                       min_samples_split=0.1)\n",
      "0.6068852459016394\n",
      "Train Accuracy: 0.621842675006014\n"
     ]
    }
   ],
   "source": [
    "#build optimized model\n",
    "np.random.seed(1)\n",
    "\n",
    "clf_optimized = tree.DecisionTreeClassifier(max_depth = optimal_max_depth.astype(int),\n",
    "                                            min_samples_split = optimal_min_samples_split,\n",
    "                                            min_samples_leaf = optimal_min_samples_leafs,\n",
    "                                            max_features = optimal_max_features)\n",
    "                                            \n",
    "print(clf_optimized)\n",
    "\n",
    "clf_optimized_fit = clf_optimized.fit(X_train, y_train)\n",
    "y_predict_optimized = clf_optimized_fit.predict(X_test)\n",
    "acc_score_tree_optimized = accuracy_score(y_test, y_predict_optimized)\n",
    "print(acc_score_tree_optimized)\n",
    "\n",
    "\n",
    "acc_train_tree_optimized = clf_optimized_fit.score(X_train, y_train)\n",
    "print (\"Train Accuracy:\", acc_train_tree_optimized)"
   ]
  },
  {
   "cell_type": "markdown",
   "id": "977e7351",
   "metadata": {},
   "source": [
    "# Random Forest"
   ]
  },
  {
   "cell_type": "code",
   "execution_count": 17,
   "id": "2e080c1b",
   "metadata": {},
   "outputs": [],
   "source": [
    "import os\n",
    "import pickle\n",
    "import matplotlib.pyplot as plt                     \n",
    "import numpy as np                                    \n",
    "import pandas as pd\n",
    "from pathlib import Path\n",
    "from textwrap import wrap\n",
    "from sklearn.model_selection import train_test_split\n",
    "from sklearn import metrics\n",
    "from sklearn.ensemble import RandomForestClassifier\n",
    "from sklearn.metrics import accuracy_score\n",
    "from sklearn.ensemble import GradientBoostingClassifier"
   ]
  },
  {
   "cell_type": "code",
   "execution_count": 18,
   "id": "e35e8f6b",
   "metadata": {},
   "outputs": [
    {
     "name": "stdout",
     "output_type": "stream",
     "text": [
      "[False  True  True False  True]\n"
     ]
    }
   ],
   "source": [
    "forest = RandomForestClassifier(criterion = 'gini', n_estimators = 100, \n",
    "                                  random_state = 1)\n",
    "forest.fit(X_train, y_train)\n",
    "\n",
    "\n",
    "y_predict_forest = forest.predict(X_test)\n",
    "print(y_predict_forest[0:5, ])"
   ]
  },
  {
   "cell_type": "code",
   "execution_count": 19,
   "id": "1e98cca0",
   "metadata": {},
   "outputs": [
    {
     "name": "stdout",
     "output_type": "stream",
     "text": [
      "[[1290   29]\n",
      " [  16 1715]]\n",
      "Accuracy for random forest on test data:  0.9852459016393442\n",
      "Train Accuracy: 1.0\n"
     ]
    }
   ],
   "source": [
    "conf_matrix_forest = metrics.confusion_matrix(y_test, y_predict_forest)\n",
    "print(conf_matrix_forest)\n",
    "accuracy_forest = metrics.accuracy_score(y_test, y_predict_forest)\n",
    "print(\"Accuracy for random forest on test data: \", accuracy_forest)\n",
    "\n",
    "acc_train_forest = forest.score(X_train, y_train)\n",
    "print (\"Train Accuracy:\", acc_train_forest)"
   ]
  },
  {
   "cell_type": "code",
   "execution_count": 20,
   "id": "f40ea82a",
   "metadata": {},
   "outputs": [
    {
     "data": {
      "text/html": [
       "<div>\n",
       "<style scoped>\n",
       "    .dataframe tbody tr th:only-of-type {\n",
       "        vertical-align: middle;\n",
       "    }\n",
       "\n",
       "    .dataframe tbody tr th {\n",
       "        vertical-align: top;\n",
       "    }\n",
       "\n",
       "    .dataframe thead th {\n",
       "        text-align: right;\n",
       "    }\n",
       "</style>\n",
       "<table border=\"1\" class=\"dataframe\">\n",
       "  <thead>\n",
       "    <tr style=\"text-align: right;\">\n",
       "      <th>accuracy</th>\n",
       "      <th>Test</th>\n",
       "      <th>Train</th>\n",
       "    </tr>\n",
       "  </thead>\n",
       "  <tbody>\n",
       "    <tr>\n",
       "      <th>0</th>\n",
       "      <td>0.985246</td>\n",
       "      <td>NaN</td>\n",
       "    </tr>\n",
       "    <tr>\n",
       "      <th>1</th>\n",
       "      <td>NaN</td>\n",
       "      <td>1.0</td>\n",
       "    </tr>\n",
       "  </tbody>\n",
       "</table>\n",
       "</div>"
      ],
      "text/plain": [
       "accuracy      Test  Train\n",
       "0         0.985246    NaN\n",
       "1              NaN    1.0"
      ]
     },
     "execution_count": 20,
     "metadata": {},
     "output_type": "execute_result"
    }
   ],
   "source": [
    "#test accuracy and train accuracy\n",
    "\n",
    "accu= {accuracy_forest:'Test', acc_train_forest:'Train'}\n",
    "\n",
    "accu= pd.Series(accu, name='accuracy')\n",
    "\n",
    "accu=pd.DataFrame(accu)\n",
    "accu=accu.reset_index()\n",
    "accu\n",
    "\n",
    "accu= accu.pivot(columns='accuracy', values='index')\n",
    "accu\n"
   ]
  },
  {
   "cell_type": "code",
   "execution_count": 21,
   "id": "5789c2be",
   "metadata": {},
   "outputs": [
    {
     "data": {
      "text/plain": [
       "[Text(0.5, 0, 'Accuracy'),\n",
       " Text(0.5, 1.0, 'GBM Train Accuracy and Test Accuracy')]"
      ]
     },
     "execution_count": 21,
     "metadata": {},
     "output_type": "execute_result"
    },
    {
     "data": {
      "image/png": "[encoded data removed]",
      "text/plain": [
       "<Figure size 720x576 with 1 Axes>"
      ]
     },
     "metadata": {
      "needs_background": "light"
     },
     "output_type": "display_data"
    }
   ],
   "source": [
    "plt.figure(figsize=(10,8))\n",
    "sns.set(font_scale=1.5)\n",
    "g=sns.barplot(data=accu)\n",
    "g.set_ylim(0.9, 1.05)\n",
    "g.set(xlabel='Accuracy', title='GBM Train Accuracy and Test Accuracy')"
   ]
  },
  {
   "cell_type": "code",
   "execution_count": 22,
   "id": "e148a0e8",
   "metadata": {},
   "outputs": [
    {
     "data": {
      "text/plain": [
       "Text(0.5, 0, 'Relative Importance')"
      ]
     },
     "execution_count": 22,
     "metadata": {},
     "output_type": "execute_result"
    },
    {
     "data": {
      "image/png": "[encoded data removed]",
      "text/plain": [
       "<Figure size 432x288 with 1 Axes>"
      ]
     },
     "metadata": {},
     "output_type": "display_data"
    }
   ],
   "source": [
    "lego_features = lego_subset.drop('star_rating', axis = 1)\n",
    "features = lego_features.columns\n",
    "importances = forest.feature_importances_\n",
    "indices = np.argsort(importances)[::-1]\n",
    "top_indices = indices[0:10][::-1]\n",
    "plt.figure(1)\n",
    "plt.title('RF Feature Importance of Lego Rating Data')\n",
    "plt.barh(range(len(top_indices)), importances[top_indices], color = 'b', align = 'center')\n",
    "labels = features[top_indices]\n",
    "labels = [ '\\n'.join(wrap(l,13)) for l in labels ]\n",
    "plt.yticks(range(len(top_indices)), labels)\n",
    "plt.xlabel('Relative Importance')"
   ]
  },
  {
   "cell_type": "markdown",
   "id": "9abcf990",
   "metadata": {},
   "source": [
    "# Random Forest Optimized"
   ]
  },
  {
   "cell_type": "code",
   "execution_count": 23,
   "id": "fa7e8773",
   "metadata": {},
   "outputs": [
    {
     "name": "stdout",
     "output_type": "stream",
     "text": [
      "[False  True  True False  True]\n"
     ]
    }
   ],
   "source": [
    "np.random.seed(1)\n",
    "\n",
    "X_train, X_test, y_train, y_test = train_test_split(X, y, test_size = 0.3)\n",
    "\n",
    "smt = SMOTE(random_state=42)\n",
    "X_train, y_train = smt.fit_resample(X_train, y_train)\n",
    "counter= Counter(y_train)\n",
    "\n",
    "forest = RandomForestClassifier()\n",
    "forest.fit(X_train, y_train)\n",
    "\n",
    "forest_y_predict = forest.predict(X_test)\n",
    "print(forest_y_predict[0:5, ])"
   ]
  },
  {
   "cell_type": "code",
   "execution_count": 24,
   "id": "407c1368",
   "metadata": {},
   "outputs": [
    {
     "name": "stdout",
     "output_type": "stream",
     "text": [
      "[[0.09 0.91]\n",
      " [0.98 0.02]\n",
      " [0.01 0.99]\n",
      " ...\n",
      " [0.02 0.98]\n",
      " [0.05 0.95]\n",
      " [0.99 0.01]]\n"
     ]
    }
   ],
   "source": [
    "forest_y_predict_prob = forest.predict_proba(X_test) \n",
    "print(forest_y_predict_prob[5:])"
   ]
  },
  {
   "cell_type": "code",
   "execution_count": null,
   "id": "4bcbc31f",
   "metadata": {},
   "outputs": [],
   "source": []
  },
  {
   "cell_type": "code",
   "execution_count": 25,
   "id": "546ae2f7",
   "metadata": {},
   "outputs": [
    {
     "name": "stdout",
     "output_type": "stream",
     "text": [
      "0.9865573770491803\n",
      "0.9861910241657077\n",
      "0.9901790872328134\n"
     ]
    },
    {
     "name": "stderr",
     "output_type": "stream",
     "text": [
      "C:\\Users\\625737\\Anaconda3\\lib\\site-packages\\sklearn\\utils\\deprecation.py:87: FutureWarning: Function plot_precision_recall_curve is deprecated; Function `plot_precision_recall_curve` is deprecated in 1.0 and will be removed in 1.2. Use one of the class methods: PrecisionRecallDisplay.from_predictions or PrecisionRecallDisplay.from_estimator.\n",
      "  warnings.warn(msg, category=FutureWarning)\n"
     ]
    },
    {
     "data": {
      "image/png": "[encoded data removed]",
      "text/plain": [
       "<Figure size 432x288 with 1 Axes>"
      ]
     },
     "metadata": {},
     "output_type": "display_data"
    },
    {
     "name": "stdout",
     "output_type": "stream",
     "text": [
      "0.9881810319976938\n",
      "0.9869860647241735\n",
      "Log loss:  0.08001280076646028\n"
     ]
    },
    {
     "name": "stderr",
     "output_type": "stream",
     "text": [
      "C:\\Users\\625737\\Anaconda3\\lib\\site-packages\\sklearn\\utils\\deprecation.py:87: FutureWarning: Function plot_roc_curve is deprecated; Function :func:`plot_roc_curve` is deprecated in 1.0 and will be removed in 1.2. Use one of the class methods: :meth:`sklearn.metric.RocCurveDisplay.from_predictions` or :meth:`sklearn.metric.RocCurveDisplay.from_estimator`.\n",
      "  warnings.warn(msg, category=FutureWarning)\n"
     ]
    },
    {
     "data": {
      "image/png": "[encoded data removed]",
      "text/plain": [
       "<Figure size 432x288 with 1 Axes>"
      ]
     },
     "metadata": {},
     "output_type": "display_data"
    },
    {
     "name": "stdout",
     "output_type": "stream",
     "text": [
      "AUC:  0.9989921990689339\n"
     ]
    }
   ],
   "source": [
    "forest_accuracy = metrics.accuracy_score(y_test, forest_y_predict)\n",
    "print(forest_accuracy)\n",
    "\n",
    "forest_precision = metrics.precision_score(y_test, forest_y_predict)\n",
    "print(forest_precision)\n",
    "\n",
    "forest_recall = metrics.recall_score(y_test, forest_y_predict)\n",
    "print(forest_recall)\n",
    "\n",
    "rf_prec_recall = metrics.plot_precision_recall_curve(forest, X_test, y_test, name = \"RF\")\n",
    "plt.show()\n",
    "\n",
    "forest_f1 = metrics.f1_score(y_test, forest_y_predict)\n",
    "print(forest_f1)\n",
    "\n",
    "forest_fbeta = metrics.fbeta_score(y_test, forest_y_predict, beta = 0.5)\n",
    "print(forest_fbeta)\n",
    "\n",
    "\n",
    "forest_log_loss = metrics.log_loss(y_test, forest_y_predict_prob[:, 1], eps=1e-15)\n",
    "print (\"Log loss: \", forest_log_loss)\n",
    "\n",
    "rf_roc = metrics.plot_roc_curve(forest, X_test, y_test, name = \"RF\")\n",
    "plt.show()\n",
    "\n",
    "forest_auc = metrics.roc_auc_score(y_test, forest_y_predict_prob[:, 1])\n",
    "print(\"AUC: \", forest_auc)"
   ]
  },
  {
   "cell_type": "code",
   "execution_count": 26,
   "id": "cf4179c3",
   "metadata": {},
   "outputs": [],
   "source": [
    "def get_performance_scores(y_test, y_predict, y_predict_prob, eps=1e-15, beta=0.5):\n",
    "    from sklearn import metrics\n",
    "    # Scores keys.\n",
    "    metric_keys = [\"accuracy\", \"precision\", \"recall\", \"f1\", \"fbeta\", \"log_loss\", \"AUC\"]\n",
    "    # Score values.\n",
    "    metric_values = [None]*len(metric_keys)\n",
    "    metric_values[0] = metrics.accuracy_score(y_test, y_predict)\n",
    "    metric_values[1] = metrics.precision_score(y_test, y_predict)\n",
    "    metric_values[2] = metrics.recall_score(y_test, y_predict)\n",
    "    metric_values[3] = metrics.f1_score(y_test, y_predict)\n",
    "    metric_values[4] = metrics.fbeta_score(y_test, y_predict, beta=beta)\n",
    "    metric_values[5] = metrics.log_loss(y_test, y_predict_prob[:, 1], eps=eps)\n",
    "    metric_values[6] = metrics.roc_auc_score(y_test, y_predict_prob[:, 1])\n",
    "    perf_metrics = dict(zip(metric_keys, metric_values))\n",
    "    return(perf_metrics)"
   ]
  },
  {
   "cell_type": "code",
   "execution_count": 27,
   "id": "2e4db1ec",
   "metadata": {},
   "outputs": [
    {
     "name": "stdout",
     "output_type": "stream",
     "text": [
      "{'RF': {'accuracy': 0.9865573770491803, 'precision': 0.9861910241657077, 'recall': 0.9901790872328134, 'f1': 0.9881810319976938, 'fbeta': 0.9869860647241735, 'log_loss': 0.08001280076646028, 'AUC': 0.9989921990689339}}\n",
      "Overall accuracy:  0.9231045298655004\n"
     ]
    },
    {
     "data": {
      "image/png": "[encoded data removed]",
      "text/plain": [
       "<Figure size 432x288 with 1 Axes>"
      ]
     },
     "metadata": {},
     "output_type": "display_data"
    }
   ],
   "source": [
    "forest_scores = get_performance_scores(y_test, forest_y_predict, forest_y_predict_prob)\n",
    "metrics_forest = {\"RF\": forest_scores}\n",
    "print(metrics_forest)\n",
    "\n",
    "print(\"Overall accuracy: \", np.exp(-forest_log_loss))\n",
    "\n",
    "prob_increments = [x*0.01 for x in range(0, 101)]\n",
    "\n",
    "losses = [metrics.log_loss(y_test, [y for x in range(len(y_test))]) for y in prob_increments]\n",
    "plt.plot(prob_increments, losses)\n",
    "plt.show()"
   ]
  },
  {
   "cell_type": "code",
   "execution_count": 28,
   "id": "fa93ef74",
   "metadata": {},
   "outputs": [
    {
     "name": "stdout",
     "output_type": "stream",
     "text": [
      "{'n_estimators': [200, 400, 600, 800, 1000, 1200, 1400, 1600, 1800, 2000], 'max_features': ['auto', 'sqrt'], 'max_depth': [10, 20, 30, 40, 50, 60, 70, 80, 90, 100, 110, None], 'min_samples_split': [2, 5, 10], 'min_samples_leaf': [1, 2, 4]}\n"
     ]
    }
   ],
   "source": [
    "forest.get_params\n",
    "\n",
    "n_estimators = [int(x) for x in np.linspace(start = 200, stop = 2000, num = 10)]\n",
    "\n",
    "max_features = ['auto', 'sqrt']\n",
    "\n",
    "max_depth = [int(x) for x in np.linspace(10, 110, num = 11)]\n",
    "max_depth.append(None)\n",
    "\n",
    "min_samples_split = [2, 5, 10]\n",
    "\n",
    "min_samples_leaf = [1, 2, 4]\n",
    "\n",
    "random_grid = {'n_estimators': n_estimators,\n",
    "               'max_features': max_features,\n",
    "               'max_depth': max_depth,\n",
    "               'min_samples_split': min_samples_split,\n",
    "               'min_samples_leaf': min_samples_leaf}\n",
    "print(random_grid)"
   ]
  },
  {
   "cell_type": "code",
   "execution_count": 29,
   "id": "39ca84d1",
   "metadata": {},
   "outputs": [],
   "source": [
    "from sklearn.model_selection import RandomizedSearchCV\n",
    "rf_random = RandomizedSearchCV(estimator = forest, param_distributions = random_grid, \n",
    "                                  n_iter = 100, \n",
    "                                  cv = 3, \n",
    "                                  verbose=0, \n",
    "                                  random_state= 1, \n",
    "                                  n_jobs = -1)"
   ]
  },
  {
   "cell_type": "code",
   "execution_count": 30,
   "id": "ea6d43ba",
   "metadata": {},
   "outputs": [
    {
     "name": "stderr",
     "output_type": "stream",
     "text": [
      "C:\\Users\\625737\\Anaconda3\\lib\\site-packages\\sklearn\\ensemble\\_forest.py:427: FutureWarning: `max_features='auto'` has been deprecated in 1.1 and will be removed in 1.3. To keep the past behaviour, explicitly set `max_features='sqrt'` or remove this parameter as it is also the default value for RandomForestClassifiers and ExtraTreesClassifiers.\n",
      "  warn(\n"
     ]
    },
    {
     "data": {
      "text/plain": [
       "{'n_estimators': 600,\n",
       " 'min_samples_split': 2,\n",
       " 'min_samples_leaf': 1,\n",
       " 'max_features': 'auto',\n",
       " 'max_depth': 70}"
      ]
     },
     "execution_count": 30,
     "metadata": {},
     "output_type": "execute_result"
    }
   ],
   "source": [
    "rf_random.fit(X_train, y_train)\n",
    "rf_random.best_params_"
   ]
  },
  {
   "cell_type": "code",
   "execution_count": 31,
   "id": "9f64de79",
   "metadata": {},
   "outputs": [
    {
     "name": "stderr",
     "output_type": "stream",
     "text": [
      "C:\\Users\\625737\\Anaconda3\\lib\\site-packages\\sklearn\\ensemble\\_forest.py:427: FutureWarning: `max_features='auto'` has been deprecated in 1.1 and will be removed in 1.3. To keep the past behaviour, explicitly set `max_features='sqrt'` or remove this parameter as it is also the default value for RandomForestClassifiers and ExtraTreesClassifiers.\n",
      "  warn(\n"
     ]
    },
    {
     "name": "stdout",
     "output_type": "stream",
     "text": [
      "{'accuracy': 0.9865573770491803, 'precision': 0.983963344788087, 'recall': 0.9924898902368573, 'f1': 0.9882082254817371, 'fbeta': 0.9856569133677565, 'log_loss': 0.08033956889198147, 'AUC': 0.9990576776605002}\n"
     ]
    }
   ],
   "source": [
    "optimized_forest = RandomForestClassifier(**rf_random.best_params_)\n",
    "optimized_forest.fit(X_train, y_train)\n",
    "\n",
    "optimized_forest_y_predict = optimized_forest.predict(X_test)\n",
    "optimized_forest_y_predict_proba = optimized_forest.predict_proba(X_test)\n",
    "optimized_forest_scores = get_performance_scores(y_test, \n",
    "                                                    optimized_forest_y_predict,\n",
    "                                                    optimized_forest_y_predict_proba)\n",
    "print(optimized_forest_scores)"
   ]
  },
  {
   "cell_type": "code",
   "execution_count": 32,
   "id": "bfff41c6",
   "metadata": {},
   "outputs": [
    {
     "name": "stderr",
     "output_type": "stream",
     "text": [
      "C:\\Users\\625737\\Anaconda3\\lib\\site-packages\\sklearn\\utils\\deprecation.py:87: FutureWarning: Function plot_roc_curve is deprecated; Function :func:`plot_roc_curve` is deprecated in 1.0 and will be removed in 1.2. Use one of the class methods: :meth:`sklearn.metric.RocCurveDisplay.from_predictions` or :meth:`sklearn.metric.RocCurveDisplay.from_estimator`.\n",
      "  warnings.warn(msg, category=FutureWarning)\n"
     ]
    },
    {
     "data": {
      "image/png": "[encoded data removed]",
      "text/plain": [
       "<Figure size 432x288 with 1 Axes>"
      ]
     },
     "metadata": {},
     "output_type": "display_data"
    }
   ],
   "source": [
    "ax = plt.gca()\n",
    "opt_rf_roc = metrics.plot_roc_curve(optimized_forest,\n",
    "                       X_test,\n",
    "                       y_test,\n",
    "                       name = \"Optimized RF\",\n",
    "                       ax = ax)\n",
    "rf_roc.plot(ax = ax, name = \"RF\")\n",
    "plt.show()"
   ]
  },
  {
   "cell_type": "code",
   "execution_count": 36,
   "id": "b2573f2c",
   "metadata": {},
   "outputs": [],
   "source": [
    "metrics= open('metrics_forest.sav', 'wb')\n",
    "pickle.dump(metrics_forest, metrics)\n",
    "metrics.close()"
   ]
  },
  {
   "cell_type": "code",
   "execution_count": 37,
   "id": "a85271ce",
   "metadata": {},
   "outputs": [
    {
     "name": "stdout",
     "output_type": "stream",
     "text": [
      "{'RF': {'accuracy': 0.9865573770491803, 'precision': 0.9861910241657077, 'recall': 0.9901790872328134, 'f1': 0.9881810319976938, 'fbeta': 0.9869860647241735, 'log_loss': 0.08001280076646028, 'AUC': 0.9989921990689339}, 'Optimized RF': {'accuracy': 0.9865573770491803, 'precision': 0.983963344788087, 'recall': 0.9924898902368573, 'f1': 0.9882082254817371, 'fbeta': 0.9856569133677565, 'log_loss': 0.08033956889198147, 'AUC': 0.9990576776605002}}\n"
     ]
    }
   ],
   "source": [
    "metrics_forest.update({\"Optimized RF\": optimized_forest_scores})\n",
    "print(metrics_forest)"
   ]
  },
  {
   "cell_type": "code",
   "execution_count": 38,
   "id": "0f9e1e4e",
   "metadata": {},
   "outputs": [
    {
     "data": {
      "text/plain": [
       "{'RF': {'accuracy': 0.9865573770491803,\n",
       "  'precision': 0.9861910241657077,\n",
       "  'recall': 0.9901790872328134,\n",
       "  'f1': 0.9881810319976938,\n",
       "  'fbeta': 0.9869860647241735,\n",
       "  'log_loss': 0.08001280076646028,\n",
       "  'AUC': 0.9989921990689339},\n",
       " 'Optimized RF': {'accuracy': 0.9865573770491803,\n",
       "  'precision': 0.983963344788087,\n",
       "  'recall': 0.9924898902368573,\n",
       "  'f1': 0.9882082254817371,\n",
       "  'fbeta': 0.9856569133677565,\n",
       "  'log_loss': 0.08033956889198147,\n",
       "  'AUC': 0.9990576776605002}}"
      ]
     },
     "execution_count": 38,
     "metadata": {},
     "output_type": "execute_result"
    }
   ],
   "source": [
    "metrics_forest"
   ]
  },
  {
   "cell_type": "code",
   "execution_count": null,
   "id": "cd4bbe11",
   "metadata": {},
   "outputs": [],
   "source": []
  },
  {
   "cell_type": "code",
   "execution_count": null,
   "id": "e8cb4854",
   "metadata": {},
   "outputs": [],
   "source": []
  },
  {
   "cell_type": "code",
   "execution_count": null,
   "id": "df4e1b5c",
   "metadata": {},
   "outputs": [],
   "source": []
  },
  {
   "cell_type": "code",
   "execution_count": null,
   "id": "7f6df72d",
   "metadata": {},
   "outputs": [],
   "source": []
  }
 ],
 "metadata": {
  "kernelspec": {
   "display_name": "Python 3 (ipykernel)",
   "language": "python",
   "name": "python3"
  },
  "language_info": {
   "codemirror_mode": {
    "name": "ipython",
    "version": 3
   },
   "file_extension": ".py",
   "mimetype": "text/x-python",
   "name": "python",
   "nbconvert_exporter": "python",
   "pygments_lexer": "ipython3",
   "version": "3.9.12"
  }
 },
 "nbformat": 4,
 "nbformat_minor": 5
}
