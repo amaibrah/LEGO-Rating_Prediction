{
 "cells": [
  {
   "cell_type": "code",
   "execution_count": 1,
   "id": "f67b646c",
   "metadata": {},
   "outputs": [
    {
     "data": {
      "text/html": [
       "        <script type=\"text/javascript\">\n",
       "        window.PlotlyConfig = {MathJaxConfig: 'local'};\n",
       "        if (window.MathJax) {MathJax.Hub.Config({SVG: {font: \"STIX-Web\"}});}\n",
       "        if (typeof require !== 'undefined') {\n",
       "        require.undef(\"plotly\");\n",
       "        requirejs.config({\n",
       "            paths: {\n",
       "                'plotly': ['https://cdn.plot.ly/plotly-2.9.0.min']\n",
       "            }\n",
       "        });\n",
       "        require(['plotly'], function(Plotly) {\n",
       "            window._Plotly = Plotly;\n",
       "        });\n",
       "        }\n",
       "        </script>\n",
       "        "
      ]
     },
     "metadata": {},
     "output_type": "display_data"
    },
    {
     "name": "stdout",
     "output_type": "stream",
     "text": [
      "C:\\Users\\625737\\Desktop\\TEDS\n",
      "C:\\Users\\625737\\Desktop\\TEDS\\Data\n"
     ]
    }
   ],
   "source": [
    "#import needed packages\n",
    "import os\n",
    "import pandas as pd\n",
    "from pandas.plotting import scatter_matrix\n",
    "import numpy as np\n",
    "from pathlib import Path\n",
    "import matplotlib.pyplot as plt\n",
    "from mpl_toolkits.mplot3d import Axes3D\n",
    "import statsmodels.api as sm\n",
    "import statsmodels.formula.api as smf\n",
    "import seaborn as sns\n",
    "from datetime import datetime as dt\n",
    "\n",
    "import plotly.express as px\n",
    "from plotly.offline import init_notebook_mode, iplot\n",
    "init_notebook_mode(connected=True)  \n",
    "\n",
    "import sklearn\n",
    "from sklearn.feature_selection import VarianceThreshold\n",
    "import statsmodels.api as sm\n",
    "from statsmodels.graphics.gofplots import ProbPlot\n",
    "\n",
    "from sklearn.model_selection import train_test_split\n",
    "from statsmodels.stats.outliers_influence import variance_inflation_factor\n",
    "\n",
    "from sklearn import cluster\n",
    "from sklearn.cluster import KMeans, MiniBatchKMeans\n",
    "from kneed import KneeLocator\n",
    "from sklearn.preprocessing import MinMaxScaler\n",
    "from scipy.cluster.vq import kmeans\n",
    "from scipy.spatial.distance import cdist,pdist\n",
    "from matplotlib import cm\n",
    "\n",
    "# Libraries needed for hierarchical clustering.\n",
    "from scipy import cluster\n",
    "from scipy.spatial.distance import pdist\n",
    "from scipy.cluster.hierarchy import dendrogram, linkage\n",
    "from sklearn.cluster import AgglomerativeClustering\n",
    "\n",
    "from pandas.plotting import scatter_matrix\n",
    "import numpy as np\n",
    "import matplotlib.pyplot as plt\n",
    "from mpl_toolkits.mplot3d import Axes3D\n",
    "import sklearn\n",
    "from sklearn import cluster\n",
    "from sklearn.cluster import KMeans, MiniBatchKMeans\n",
    "from kneed import KneeLocator\n",
    "from sklearn.preprocessing import MinMaxScaler\n",
    "from scipy.cluster.vq import kmeans\n",
    "from scipy.spatial.distance import cdist,pdist\n",
    "from matplotlib import cm\n",
    "\n",
    "#set directory\n",
    "home_dir = Path(\".\").resolve()\n",
    "main_dir = home_dir.parent.parent\n",
    "print(main_dir)\n",
    "data_dir= str(main_dir)+'\\Data'\n",
    "print(data_dir)\n",
    "os.chdir(data_dir)"
   ]
  },
  {
   "cell_type": "code",
   "execution_count": 2,
   "id": "1f90d124",
   "metadata": {},
   "outputs": [
    {
     "name": "stdout",
     "output_type": "stream",
     "text": [
      "(10165, 9)\n"
     ]
    },
    {
     "data": {
      "text/html": [
       "<div>\n",
       "<style scoped>\n",
       "    .dataframe tbody tr th:only-of-type {\n",
       "        vertical-align: middle;\n",
       "    }\n",
       "\n",
       "    .dataframe tbody tr th {\n",
       "        vertical-align: top;\n",
       "    }\n",
       "\n",
       "    .dataframe thead th {\n",
       "        text-align: right;\n",
       "    }\n",
       "</style>\n",
       "<table border=\"1\" class=\"dataframe\">\n",
       "  <thead>\n",
       "    <tr style=\"text-align: right;\">\n",
       "      <th></th>\n",
       "      <th>list_price</th>\n",
       "      <th>piece_count</th>\n",
       "      <th>num_reviews</th>\n",
       "      <th>prod_id</th>\n",
       "      <th>review_difficulty</th>\n",
       "      <th>star_rating</th>\n",
       "      <th>val_star_rating</th>\n",
       "      <th>country_num</th>\n",
       "    </tr>\n",
       "  </thead>\n",
       "  <tbody>\n",
       "    <tr>\n",
       "      <th>0</th>\n",
       "      <td>29.99</td>\n",
       "      <td>277.0</td>\n",
       "      <td>2.0</td>\n",
       "      <td>75823.0</td>\n",
       "      <td>3</td>\n",
       "      <td>4.5</td>\n",
       "      <td>4.0</td>\n",
       "      <td>1</td>\n",
       "    </tr>\n",
       "    <tr>\n",
       "      <th>1</th>\n",
       "      <td>19.99</td>\n",
       "      <td>168.0</td>\n",
       "      <td>2.0</td>\n",
       "      <td>75822.0</td>\n",
       "      <td>2</td>\n",
       "      <td>5.0</td>\n",
       "      <td>4.0</td>\n",
       "      <td>1</td>\n",
       "    </tr>\n",
       "    <tr>\n",
       "      <th>2</th>\n",
       "      <td>12.99</td>\n",
       "      <td>74.0</td>\n",
       "      <td>11.0</td>\n",
       "      <td>75821.0</td>\n",
       "      <td>2</td>\n",
       "      <td>4.3</td>\n",
       "      <td>4.1</td>\n",
       "      <td>1</td>\n",
       "    </tr>\n",
       "    <tr>\n",
       "      <th>3</th>\n",
       "      <td>99.99</td>\n",
       "      <td>1032.0</td>\n",
       "      <td>23.0</td>\n",
       "      <td>21030.0</td>\n",
       "      <td>3</td>\n",
       "      <td>4.6</td>\n",
       "      <td>4.3</td>\n",
       "      <td>1</td>\n",
       "    </tr>\n",
       "    <tr>\n",
       "      <th>4</th>\n",
       "      <td>79.99</td>\n",
       "      <td>744.0</td>\n",
       "      <td>14.0</td>\n",
       "      <td>21035.0</td>\n",
       "      <td>4</td>\n",
       "      <td>4.6</td>\n",
       "      <td>4.1</td>\n",
       "      <td>1</td>\n",
       "    </tr>\n",
       "  </tbody>\n",
       "</table>\n",
       "</div>"
      ],
      "text/plain": [
       "   list_price  piece_count  num_reviews  prod_id  review_difficulty  \\\n",
       "0       29.99        277.0          2.0  75823.0                  3   \n",
       "1       19.99        168.0          2.0  75822.0                  2   \n",
       "2       12.99         74.0         11.0  75821.0                  2   \n",
       "3       99.99       1032.0         23.0  21030.0                  3   \n",
       "4       79.99        744.0         14.0  21035.0                  4   \n",
       "\n",
       "   star_rating  val_star_rating  country_num  \n",
       "0          4.5              4.0            1  \n",
       "1          5.0              4.0            1  \n",
       "2          4.3              4.1            1  \n",
       "3          4.6              4.3            1  \n",
       "4          4.6              4.1            1  "
      ]
     },
     "execution_count": 2,
     "metadata": {},
     "output_type": "execute_result"
    }
   ],
   "source": [
    "lego_subset= pd.read_csv('LEGO_subset.csv')\n",
    "print(lego_subset.shape)\n",
    "lego_subset.head()\n",
    "lego_subset= lego_subset.drop(columns='Unnamed: 0')\n",
    "lego_subset.head()"
   ]
  },
  {
   "cell_type": "code",
   "execution_count": 3,
   "id": "d8840537",
   "metadata": {},
   "outputs": [
    {
     "data": {
      "text/html": [
       "<div>\n",
       "<style scoped>\n",
       "    .dataframe tbody tr th:only-of-type {\n",
       "        vertical-align: middle;\n",
       "    }\n",
       "\n",
       "    .dataframe tbody tr th {\n",
       "        vertical-align: top;\n",
       "    }\n",
       "\n",
       "    .dataframe thead th {\n",
       "        text-align: right;\n",
       "    }\n",
       "</style>\n",
       "<table border=\"1\" class=\"dataframe\">\n",
       "  <thead>\n",
       "    <tr style=\"text-align: right;\">\n",
       "      <th></th>\n",
       "      <th>list_price</th>\n",
       "      <th>piece_count</th>\n",
       "      <th>num_reviews</th>\n",
       "      <th>prod_id</th>\n",
       "      <th>review_difficulty</th>\n",
       "      <th>star_rating</th>\n",
       "      <th>val_star_rating</th>\n",
       "      <th>country_num</th>\n",
       "    </tr>\n",
       "  </thead>\n",
       "  <tbody>\n",
       "    <tr>\n",
       "      <th>count</th>\n",
       "      <td>10165.000000</td>\n",
       "      <td>10165.000000</td>\n",
       "      <td>10165.000000</td>\n",
       "      <td>1.016500e+04</td>\n",
       "      <td>10165.000000</td>\n",
       "      <td>10165.000000</td>\n",
       "      <td>10165.000000</td>\n",
       "      <td>10165.000000</td>\n",
       "    </tr>\n",
       "    <tr>\n",
       "      <th>mean</th>\n",
       "      <td>71.430894</td>\n",
       "      <td>561.123955</td>\n",
       "      <td>17.552681</td>\n",
       "      <td>6.566977e+04</td>\n",
       "      <td>2.468864</td>\n",
       "      <td>4.504466</td>\n",
       "      <td>4.224476</td>\n",
       "      <td>10.584850</td>\n",
       "    </tr>\n",
       "    <tr>\n",
       "      <th>std</th>\n",
       "      <td>99.054339</td>\n",
       "      <td>885.118073</td>\n",
       "      <td>37.051847</td>\n",
       "      <td>1.786364e+05</td>\n",
       "      <td>0.828304</td>\n",
       "      <td>0.521850</td>\n",
       "      <td>0.661356</td>\n",
       "      <td>6.150305</td>\n",
       "    </tr>\n",
       "    <tr>\n",
       "      <th>min</th>\n",
       "      <td>2.272400</td>\n",
       "      <td>1.000000</td>\n",
       "      <td>1.000000</td>\n",
       "      <td>6.300000e+02</td>\n",
       "      <td>1.000000</td>\n",
       "      <td>1.800000</td>\n",
       "      <td>1.000000</td>\n",
       "      <td>1.000000</td>\n",
       "    </tr>\n",
       "    <tr>\n",
       "      <th>25%</th>\n",
       "      <td>20.986000</td>\n",
       "      <td>116.000000</td>\n",
       "      <td>3.000000</td>\n",
       "      <td>3.106800e+04</td>\n",
       "      <td>2.000000</td>\n",
       "      <td>4.300000</td>\n",
       "      <td>4.000000</td>\n",
       "      <td>5.000000</td>\n",
       "    </tr>\n",
       "    <tr>\n",
       "      <th>50%</th>\n",
       "      <td>37.807800</td>\n",
       "      <td>257.000000</td>\n",
       "      <td>6.000000</td>\n",
       "      <td>6.011900e+04</td>\n",
       "      <td>2.000000</td>\n",
       "      <td>4.600000</td>\n",
       "      <td>4.300000</td>\n",
       "      <td>10.000000</td>\n",
       "    </tr>\n",
       "    <tr>\n",
       "      <th>75%</th>\n",
       "      <td>79.990000</td>\n",
       "      <td>603.000000</td>\n",
       "      <td>14.000000</td>\n",
       "      <td>7.124500e+04</td>\n",
       "      <td>3.000000</td>\n",
       "      <td>4.900000</td>\n",
       "      <td>4.700000</td>\n",
       "      <td>16.000000</td>\n",
       "    </tr>\n",
       "    <tr>\n",
       "      <th>max</th>\n",
       "      <td>1104.870000</td>\n",
       "      <td>7541.000000</td>\n",
       "      <td>367.000000</td>\n",
       "      <td>2.000431e+06</td>\n",
       "      <td>5.000000</td>\n",
       "      <td>5.000000</td>\n",
       "      <td>5.000000</td>\n",
       "      <td>21.000000</td>\n",
       "    </tr>\n",
       "  </tbody>\n",
       "</table>\n",
       "</div>"
      ],
      "text/plain": [
       "         list_price   piece_count   num_reviews       prod_id  \\\n",
       "count  10165.000000  10165.000000  10165.000000  1.016500e+04   \n",
       "mean      71.430894    561.123955     17.552681  6.566977e+04   \n",
       "std       99.054339    885.118073     37.051847  1.786364e+05   \n",
       "min        2.272400      1.000000      1.000000  6.300000e+02   \n",
       "25%       20.986000    116.000000      3.000000  3.106800e+04   \n",
       "50%       37.807800    257.000000      6.000000  6.011900e+04   \n",
       "75%       79.990000    603.000000     14.000000  7.124500e+04   \n",
       "max     1104.870000   7541.000000    367.000000  2.000431e+06   \n",
       "\n",
       "       review_difficulty   star_rating  val_star_rating   country_num  \n",
       "count       10165.000000  10165.000000     10165.000000  10165.000000  \n",
       "mean            2.468864      4.504466         4.224476     10.584850  \n",
       "std             0.828304      0.521850         0.661356      6.150305  \n",
       "min             1.000000      1.800000         1.000000      1.000000  \n",
       "25%             2.000000      4.300000         4.000000      5.000000  \n",
       "50%             2.000000      4.600000         4.300000     10.000000  \n",
       "75%             3.000000      4.900000         4.700000     16.000000  \n",
       "max             5.000000      5.000000         5.000000     21.000000  "
      ]
     },
     "execution_count": 3,
     "metadata": {},
     "output_type": "execute_result"
    }
   ],
   "source": [
    "lego_subset.describe()"
   ]
  },
  {
   "cell_type": "markdown",
   "id": "c87292d7",
   "metadata": {},
   "source": [
    "# Log-Log Regression"
   ]
  },
  {
   "cell_type": "code",
   "execution_count": 4,
   "id": "a76e6008",
   "metadata": {},
   "outputs": [
    {
     "data": {
      "text/plain": [
       "1    1.925925\n",
       "2    1.732899\n",
       "3    2.857158\n",
       "4    2.705129\n",
       "dtype: float64"
      ]
     },
     "execution_count": 4,
     "metadata": {},
     "output_type": "execute_result"
    }
   ],
   "source": [
    "lego_subset['star_rating_log']= np.log(lego_subset.iloc[:, 4])\n",
    "lego_subset['list_price_log']= np.log(lego_subset['list_price'])\n",
    "lego_subset.head()\n",
    "\n",
    "lego_subset= sm.add_constant(lego_subset)\n",
    "model_log= sm.OLS(lego_subset['star_rating_log'], lego_subset.loc[:, ['const', 'list_price_log']]).fit()\n",
    "\n",
    "prediction_log = model_log.predict(lego_subset.loc[:,['const','list_price_log']])\n",
    "prediction_log[1:10]\n",
    "\n",
    "prediction = np.exp(prediction_log)\n",
    "prediction[1:5]"
   ]
  },
  {
   "cell_type": "code",
   "execution_count": 5,
   "id": "89de57de",
   "metadata": {},
   "outputs": [
    {
     "data": {
      "image/png": "[encoded data removed]",
      "text/plain": [
       "<Figure size 432x288 with 1 Axes>"
      ]
     },
     "metadata": {
      "needs_background": "light"
     },
     "output_type": "display_data"
    }
   ],
   "source": [
    "plt.scatter(lego_subset['list_price'],lego_subset['star_rating'])\n",
    "plt.plot(lego_subset['list_price'], prediction, 'red')\n",
    "plt.title(\"Lego Set Price v Star Rating\")\n",
    "plt.xlabel(\"Price in USD\")\n",
    "plt.ylabel(\"Star Rating\")\n",
    "plt.show()"
   ]
  },
  {
   "cell_type": "code",
   "execution_count": 6,
   "id": "f7de2911",
   "metadata": {},
   "outputs": [
    {
     "name": "stdout",
     "output_type": "stream",
     "text": [
      "2.268074937786409\n"
     ]
    }
   ],
   "source": [
    "actual = lego_subset['star_rating']\n",
    "prediction = prediction\n",
    "residuals = actual - prediction\n",
    "loglog_results =  pd.concat([actual.rename('actual'),\n",
    "                              prediction.rename('predicted'),\n",
    "                              residuals.rename('residuals')], axis = 1)\n",
    "def rmse(predictions,actual):\n",
    "    return np.sqrt(((predictions-actual) ** 2).mean())\n",
    "    \n",
    "print(rmse(loglog_results['predicted'],loglog_results['actual']))"
   ]
  },
  {
   "cell_type": "markdown",
   "id": "2e9ddccc",
   "metadata": {},
   "source": [
    "#  Log-lin"
   ]
  },
  {
   "cell_type": "code",
   "execution_count": 7,
   "id": "37cf665f",
   "metadata": {},
   "outputs": [
    {
     "name": "stdout",
     "output_type": "stream",
     "text": [
      "1     4.819236\n",
      "2     3.104190\n",
      "3    24.419760\n",
      "4    19.519629\n",
      "5    14.619498\n",
      "6    14.619498\n",
      "7    12.169433\n",
      "8     9.719367\n",
      "9     9.719367\n",
      "dtype: float64\n",
      "1    1.238704e+02\n",
      "2    2.229116e+01\n",
      "3    4.030575e+10\n",
      "4    3.001008e+08\n",
      "dtype: float64\n"
     ]
    },
    {
     "data": {
      "image/png": "[encoded data removed]",
      "text/plain": [
       "<Figure size 432x288 with 1 Axes>"
      ]
     },
     "metadata": {
      "needs_background": "light"
     },
     "output_type": "display_data"
    },
    {
     "name": "stdout",
     "output_type": "stream",
     "text": [
      "3.4136377820330963e+115\n"
     ]
    }
   ],
   "source": [
    "lego_subset['star_rating_log']= np.log(lego_subset.iloc[:, 4])\n",
    "\n",
    "lego_subset = sm.add_constant(lego_subset)\n",
    "model_lin = sm.OLS(lego_subset['star_rating_log'], lego_subset.loc[:,['const','list_price']]).fit()\n",
    "\n",
    "prediction_lin = model_log.predict(lego_subset.loc[:,['const','list_price']])\n",
    "print(prediction_lin[1:10])\n",
    "\n",
    "prediction = np.exp(prediction_lin)\n",
    "print(prediction[1:5])\n",
    "\n",
    "\n",
    "plt.scatter(lego_subset['list_price'],lego_subset['star_rating'])\n",
    "plt.plot(lego_subset['list_price'], prediction, 'red')\n",
    "plt.title(\"Lego Set Price v Star Rating\")\n",
    "plt.xlabel(\"Listed price in USD\")\n",
    "plt.ylabel(\"Star Rating\")\n",
    "plt.show()\n",
    "\n",
    "actual = lego_subset['star_rating']\n",
    "prediction = prediction\n",
    "residuals = actual - prediction\n",
    "loglog_results =  pd.concat([actual.rename('actual'),\n",
    "                              prediction.rename('predicted'),\n",
    "                              residuals.rename('residuals')], axis = 1)\n",
    "    \n",
    "print(rmse(loglog_results['predicted'],loglog_results['actual']))"
   ]
  },
  {
   "cell_type": "markdown",
   "id": "2b4bc37b",
   "metadata": {},
   "source": [
    "# Polynomial Regression"
   ]
  },
  {
   "cell_type": "code",
   "execution_count": 8,
   "id": "34ba3639",
   "metadata": {},
   "outputs": [
    {
     "data": {
      "image/png": "[encoded data removed]",
      "text/plain": [
       "<Figure size 432x288 with 1 Axes>"
      ]
     },
     "metadata": {
      "needs_background": "light"
     },
     "output_type": "display_data"
    },
    {
     "name": "stdout",
     "output_type": "stream",
     "text": [
      "0.5217791739203651\n"
     ]
    }
   ],
   "source": [
    "lego_subset['list_price2'] = np.power(lego_subset['list_price'], 2)\n",
    "lego_subset['list_price3'] = np.power(lego_subset['list_price'], 3)\n",
    "lego_subset.head(3)\n",
    "\n",
    "lego_subset = sm.add_constant(lego_subset)\n",
    "model_poly = sm.OLS(lego_subset['star_rating'], lego_subset.loc[:,['const','list_price','list_price2','list_price3']]).fit()\n",
    "\n",
    "prediction_poly = model_poly.predict(lego_subset.loc[:,['const','list_price','list_price2','list_price3']])\n",
    "prediction_poly[1:10]\n",
    "\n",
    "plt.scatter(lego_subset['list_price'],lego_subset['star_rating'])\n",
    "plt.plot(lego_subset['list_price'], prediction_poly, 'red')\n",
    "plt.title(' ')\n",
    "plt.xlabel(\"List price\")\n",
    "plt.ylabel(\"star_rating\")\n",
    "plt.show()\n",
    "\n",
    "actual = lego_subset['star_rating']\n",
    "prediction = prediction_poly\n",
    "residuals = actual - prediction\n",
    "poly_results =  pd.concat([actual.rename('actual'),\n",
    "                              prediction.rename('predicted'),\n",
    "                              residuals.rename('residuals')], axis = 1)\n",
    "\n",
    "print(rmse(poly_results['predicted'],poly_results['actual']))"
   ]
  },
  {
   "cell_type": "code",
   "execution_count": null,
   "id": "8782a294",
   "metadata": {},
   "outputs": [],
   "source": []
  }
 ],
 "metadata": {
  "kernelspec": {
   "display_name": "Python 3 (ipykernel)",
   "language": "python",
   "name": "python3"
  },
  "language_info": {
   "codemirror_mode": {
    "name": "ipython",
    "version": 3
   },
   "file_extension": ".py",
   "mimetype": "text/x-python",
   "name": "python",
   "nbconvert_exporter": "python",
   "pygments_lexer": "ipython3",
   "version": "3.9.12"
  }
 },
 "nbformat": 4,
 "nbformat_minor": 5
}
