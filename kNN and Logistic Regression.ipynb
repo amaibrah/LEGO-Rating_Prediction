{
 "cells": [
  {
   "cell_type": "code",
   "execution_count": 1,
   "id": "1c76aaf9",
   "metadata": {},
   "outputs": [
    {
     "data": {
      "text/html": [
       "        <script type=\"text/javascript\">\n",
       "        window.PlotlyConfig = {MathJaxConfig: 'local'};\n",
       "        if (window.MathJax) {MathJax.Hub.Config({SVG: {font: \"STIX-Web\"}});}\n",
       "        if (typeof require !== 'undefined') {\n",
       "        require.undef(\"plotly\");\n",
       "        requirejs.config({\n",
       "            paths: {\n",
       "                'plotly': ['https://cdn.plot.ly/plotly-2.9.0.min']\n",
       "            }\n",
       "        });\n",
       "        require(['plotly'], function(Plotly) {\n",
       "            window._Plotly = Plotly;\n",
       "        });\n",
       "        }\n",
       "        </script>\n",
       "        "
      ]
     },
     "metadata": {},
     "output_type": "display_data"
    }
   ],
   "source": [
    "#import needed packages\n",
    "import os\n",
    "import pandas as pd\n",
    "from pandas.plotting import scatter_matrix\n",
    "import numpy as np\n",
    "from pathlib import Path\n",
    "import matplotlib.pyplot as plt\n",
    "from mpl_toolkits.mplot3d import Axes3D\n",
    "import statsmodels.api as sm\n",
    "import statsmodels.formula.api as smf\n",
    "import seaborn as sns\n",
    "from datetime import datetime as dt\n",
    "from statsmodels.graphics.gofplots import ProbPlot\n",
    "\n",
    "import plotly.express as px\n",
    "\n",
    "import sklearn\n",
    "from sklearn.feature_selection import VarianceThreshold\n",
    "import statsmodels.api as sm\n",
    "\n",
    "from sklearn.model_selection import train_test_split\n",
    "from statsmodels.stats.outliers_influence import variance_inflation_factor\n",
    "\n",
    "from sklearn import cluster\n",
    "from sklearn.cluster import KMeans, MiniBatchKMeans\n",
    "from kneed import KneeLocator\n",
    "from sklearn.preprocessing import MinMaxScaler\n",
    "from scipy.cluster.vq import kmeans\n",
    "from scipy.spatial.distance import cdist,pdist\n",
    "from matplotlib import cm\n",
    "\n",
    "# Libraries needed for hierarchical clustering.\n",
    "from scipy import cluster\n",
    "from scipy.spatial.distance import pdist\n",
    "from scipy.cluster.hierarchy import dendrogram, linkage\n",
    "from sklearn.cluster import AgglomerativeClustering\n",
    "\n",
    "import pickle\n",
    "from sklearn.model_selection import train_test_split\n",
    "from sklearn.neighbors import KNeighborsClassifier\n",
    "from sklearn.preprocessing import scale,StandardScaler\n",
    "from sklearn.pipeline import Pipeline\n",
    "from sklearn.model_selection import cross_val_score\n",
    "from sklearn.model_selection import GridSearchCV\n",
    "from sklearn.metrics import accuracy_score, classification_report, confusion_matrix\n",
    "from sklearn import metrics\n",
    "from imblearn import under_sampling, over_sampling\n",
    "from imblearn.over_sampling import SMOTE\n",
    "from collections import Counter\n",
    "from imblearn.combine import SMOTETomek\n",
    "\n",
    "from collections import Counter\n",
    "from sklearn.datasets import make_classification\n",
    "from imblearn.over_sampling import SMOTE, SMOTENC\n",
    "from imblearn.under_sampling import RandomUnderSampler\n",
    "from imblearn.pipeline import Pipeline\n",
    "from matplotlib import pyplot\n",
    "\n",
    "import os\n",
    "import pandas as pd\n",
    "from pandas.plotting import scatter_matrix\n",
    "import numpy as np\n",
    "from pathlib import Path\n",
    "import matplotlib.pyplot as plt\n",
    "from mpl_toolkits.mplot3d import Axes3D\n",
    "import statsmodels.api as sm\n",
    "import statsmodels.formula.api as smf\n",
    "import seaborn as sns\n",
    "from datetime import datetime as dt\n",
    "\n",
    "import plotly.express as px\n",
    "from plotly.offline import init_notebook_mode, iplot\n",
    "init_notebook_mode(connected=True)  \n",
    "\n",
    "import sklearn\n",
    "from sklearn.feature_selection import VarianceThreshold\n",
    "import statsmodels.api as sm\n",
    "from statsmodels.graphics.gofplots import ProbPlot\n",
    "\n",
    "from sklearn.model_selection import train_test_split\n",
    "from statsmodels.stats.outliers_influence import variance_inflation_factor\n",
    "\n",
    "from sklearn import cluster\n",
    "from sklearn.cluster import KMeans, MiniBatchKMeans\n",
    "from kneed import KneeLocator\n",
    "from sklearn.preprocessing import MinMaxScaler\n",
    "from scipy.cluster.vq import kmeans\n",
    "from scipy.spatial.distance import cdist,pdist\n",
    "from matplotlib import cm\n",
    "\n",
    "# Libraries needed for hierarchical clustering.\n",
    "from scipy import cluster\n",
    "from scipy.spatial.distance import pdist\n",
    "from scipy.cluster.hierarchy import dendrogram, linkage\n",
    "from sklearn.cluster import AgglomerativeClustering\n"
   ]
  },
  {
   "cell_type": "code",
   "execution_count": 2,
   "id": "4c4384e9",
   "metadata": {},
   "outputs": [],
   "source": [
    "#set directory\n",
    "home_dir = Path(\".\").resolve()\n",
    "main_dir = home_dir.parent.parent\n",
    "data_dir= str(main_dir)+'\\Data'\n",
    "\n",
    "os.chdir(data_dir)"
   ]
  },
  {
   "cell_type": "code",
   "execution_count": 3,
   "id": "1c65177d",
   "metadata": {},
   "outputs": [
    {
     "name": "stdout",
     "output_type": "stream",
     "text": [
      "Requirement already satisfied: imblearn in c:\\users\\625737\\appdata\\roaming\\python\\python39\\site-packages (0.0)Note: you may need to restart the kernel to use updated packages.\n",
      "\n",
      "Requirement already satisfied: imbalanced-learn in c:\\users\\625737\\appdata\\roaming\\python\\python39\\site-packages (from imblearn) (0.9.1)\n",
      "Requirement already satisfied: numpy>=1.17.3 in c:\\users\\625737\\anaconda3\\lib\\site-packages (from imbalanced-learn->imblearn) (1.21.5)\n",
      "Requirement already satisfied: scipy>=1.3.2 in c:\\users\\625737\\anaconda3\\lib\\site-packages (from imbalanced-learn->imblearn) (1.7.3)\n",
      "Requirement already satisfied: threadpoolctl>=2.0.0 in c:\\users\\625737\\anaconda3\\lib\\site-packages (from imbalanced-learn->imblearn) (2.2.0)\n",
      "Requirement already satisfied: scikit-learn>=1.1.0 in c:\\users\\625737\\anaconda3\\lib\\site-packages (from imbalanced-learn->imblearn) (1.1.2)\n",
      "Requirement already satisfied: joblib>=1.0.0 in c:\\users\\625737\\anaconda3\\lib\\site-packages (from imbalanced-learn->imblearn) (1.1.0)\n"
     ]
    }
   ],
   "source": [
    "pip install -U imblearn"
   ]
  },
  {
   "cell_type": "code",
   "execution_count": 4,
   "id": "accc3377",
   "metadata": {},
   "outputs": [
    {
     "name": "stdout",
     "output_type": "stream",
     "text": [
      "(10165, 8)\n"
     ]
    },
    {
     "data": {
      "text/html": [
       "<div>\n",
       "<style scoped>\n",
       "    .dataframe tbody tr th:only-of-type {\n",
       "        vertical-align: middle;\n",
       "    }\n",
       "\n",
       "    .dataframe tbody tr th {\n",
       "        vertical-align: top;\n",
       "    }\n",
       "\n",
       "    .dataframe thead th {\n",
       "        text-align: right;\n",
       "    }\n",
       "</style>\n",
       "<table border=\"1\" class=\"dataframe\">\n",
       "  <thead>\n",
       "    <tr style=\"text-align: right;\">\n",
       "      <th></th>\n",
       "      <th>list_price</th>\n",
       "      <th>piece_count</th>\n",
       "      <th>num_reviews</th>\n",
       "      <th>review_difficulty</th>\n",
       "      <th>star_rating</th>\n",
       "      <th>country_num</th>\n",
       "      <th>min_age</th>\n",
       "    </tr>\n",
       "  </thead>\n",
       "  <tbody>\n",
       "    <tr>\n",
       "      <th>0</th>\n",
       "      <td>29.99</td>\n",
       "      <td>277.0</td>\n",
       "      <td>2.0</td>\n",
       "      <td>3</td>\n",
       "      <td>4.5</td>\n",
       "      <td>1</td>\n",
       "      <td>6.0</td>\n",
       "    </tr>\n",
       "    <tr>\n",
       "      <th>1</th>\n",
       "      <td>19.99</td>\n",
       "      <td>168.0</td>\n",
       "      <td>2.0</td>\n",
       "      <td>2</td>\n",
       "      <td>5.0</td>\n",
       "      <td>1</td>\n",
       "      <td>6.0</td>\n",
       "    </tr>\n",
       "    <tr>\n",
       "      <th>2</th>\n",
       "      <td>12.99</td>\n",
       "      <td>74.0</td>\n",
       "      <td>11.0</td>\n",
       "      <td>2</td>\n",
       "      <td>4.3</td>\n",
       "      <td>1</td>\n",
       "      <td>6.0</td>\n",
       "    </tr>\n",
       "    <tr>\n",
       "      <th>3</th>\n",
       "      <td>99.99</td>\n",
       "      <td>1032.0</td>\n",
       "      <td>23.0</td>\n",
       "      <td>3</td>\n",
       "      <td>4.6</td>\n",
       "      <td>1</td>\n",
       "      <td>12.0</td>\n",
       "    </tr>\n",
       "    <tr>\n",
       "      <th>4</th>\n",
       "      <td>79.99</td>\n",
       "      <td>744.0</td>\n",
       "      <td>14.0</td>\n",
       "      <td>4</td>\n",
       "      <td>4.6</td>\n",
       "      <td>1</td>\n",
       "      <td>12.0</td>\n",
       "    </tr>\n",
       "  </tbody>\n",
       "</table>\n",
       "</div>"
      ],
      "text/plain": [
       "   list_price  piece_count  num_reviews  review_difficulty  star_rating  \\\n",
       "0       29.99        277.0          2.0                  3          4.5   \n",
       "1       19.99        168.0          2.0                  2          5.0   \n",
       "2       12.99         74.0         11.0                  2          4.3   \n",
       "3       99.99       1032.0         23.0                  3          4.6   \n",
       "4       79.99        744.0         14.0                  4          4.6   \n",
       "\n",
       "   country_num  min_age  \n",
       "0            1      6.0  \n",
       "1            1      6.0  \n",
       "2            1      6.0  \n",
       "3            1     12.0  \n",
       "4            1     12.0  "
      ]
     },
     "execution_count": 4,
     "metadata": {},
     "output_type": "execute_result"
    }
   ],
   "source": [
    "lego_subset= pd.read_csv('LEGO_subset1.csv')\n",
    "print(lego_subset.shape)\n",
    "lego_subset.head()\n",
    "lego_subset= lego_subset.drop(columns='Unnamed: 0')\n",
    "lego_subset.head()"
   ]
  },
  {
   "cell_type": "code",
   "execution_count": 5,
   "id": "f62390d5",
   "metadata": {},
   "outputs": [
    {
     "data": {
      "text/plain": [
       "list_price           0\n",
       "piece_count          0\n",
       "num_reviews          0\n",
       "review_difficulty    0\n",
       "star_rating          0\n",
       "country_num          0\n",
       "min_age              0\n",
       "dtype: int64"
      ]
     },
     "execution_count": 5,
     "metadata": {},
     "output_type": "execute_result"
    }
   ],
   "source": [
    "lego_subset.isna().sum()"
   ]
  },
  {
   "cell_type": "code",
   "execution_count": 6,
   "id": "a24a95a3",
   "metadata": {},
   "outputs": [
    {
     "data": {
      "text/plain": [
       "True     5888\n",
       "False    4277\n",
       "Name: star_rating, dtype: int64"
      ]
     },
     "execution_count": 6,
     "metadata": {},
     "output_type": "execute_result"
    }
   ],
   "source": [
    "lego_subset['star_rating'] = np.where(lego_subset['star_rating'] > 4.5, True, False)\n",
    "\n",
    "columns_to_drop_from_X = ['star_rating']\n",
    "X = lego_subset.drop(columns_to_drop_from_X, axis = 1)\n",
    "y = np.array(lego_subset['star_rating'])\n",
    "\n",
    "lego_subset['star_rating'].value_counts()"
   ]
  },
  {
   "cell_type": "code",
   "execution_count": 7,
   "id": "66decafe",
   "metadata": {},
   "outputs": [
    {
     "data": {
      "text/plain": [
       "<AxesSubplot:xlabel='star_rating'>"
      ]
     },
     "execution_count": 7,
     "metadata": {},
     "output_type": "execute_result"
    },
    {
     "data": {
      "image/png": "[encoded data removed]",
      "text/plain": [
       "<Figure size 432x288 with 1 Axes>"
      ]
     },
     "metadata": {
      "needs_background": "light"
     },
     "output_type": "display_data"
    }
   ],
   "source": [
    "import matplotlib as plot\n",
    "rating= lego_subset.groupby(['star_rating']).size()\n",
    "rating.plot.bar(rot=0)"
   ]
  },
  {
   "cell_type": "markdown",
   "id": "99f34144",
   "metadata": {},
   "source": [
    "Very imbalanced, will use SMOTE"
   ]
  },
  {
   "cell_type": "code",
   "execution_count": 8,
   "id": "3f7a3bbc",
   "metadata": {},
   "outputs": [
    {
     "name": "stdout",
     "output_type": "stream",
     "text": [
      "[[-0.54189473 -0.4500459  -0.40512307 -0.54958967  0.40058758 -0.1369661 ]\n",
      " [-0.52851804 -0.41175601 -0.26131654  0.66500057 -0.90772969 -0.48343349]]\n",
      "[[-0.65782698 -0.57325371 -0.35266199  0.62979355  1.05831875 -1.18593346]\n",
      " [-0.60174978 -0.56880871 -0.37896331 -0.57678329 -0.24857823 -1.18593346]]\n"
     ]
    }
   ],
   "source": [
    "np.random.seed(1)\n",
    "X_train, X_test, y_train, y_test = train_test_split(X, y, test_size = 0.3) \n",
    "\n",
    "oversample= SMOTE()\n",
    "X_train, y_train = oversample.fit_resample(X_train, y_train)\n",
    "\n",
    "#scale X\n",
    "X_train = scale(X_train)\n",
    "X_test = scale(X_test)\n",
    "print(X_train[0:2])\n",
    "print(X_test[0:2])"
   ]
  },
  {
   "cell_type": "code",
   "execution_count": 9,
   "id": "443fa3ac",
   "metadata": {},
   "outputs": [
    {
     "name": "stdout",
     "output_type": "stream",
     "text": [
      "[ True False  True  True False]\n",
      "[[False  True]\n",
      " [ True False]\n",
      " [ True  True]\n",
      " [False  True]\n",
      " [ True False]]\n"
     ]
    }
   ],
   "source": [
    "#kNN classifier\n",
    "default = 5\n",
    "kNN = KNeighborsClassifier(n_neighbors = default)\n",
    "kNN.fit(X_train, y_train)\n",
    "\n",
    "predictions = kNN.predict(X_test)\n",
    "print(predictions[0:5])\n",
    "actual_v_predicted = np.column_stack((y_test, predictions))\n",
    "print(actual_v_predicted[0:5])"
   ]
  },
  {
   "cell_type": "code",
   "execution_count": 10,
   "id": "76377f3a",
   "metadata": {},
   "outputs": [
    {
     "name": "stdout",
     "output_type": "stream",
     "text": [
      "[[ 971  348]\n",
      " [ 488 1243]]\n",
      "0.7259\n"
     ]
    },
    {
     "data": {
      "image/png": "[encoded data removed]",
      "text/plain": [
       "<Figure size 432x288 with 1 Axes>"
      ]
     },
     "metadata": {
      "needs_background": "light"
     },
     "output_type": "display_data"
    }
   ],
   "source": [
    "#confusion matrix\n",
    "cm_kNN = confusion_matrix(y_test, predictions)\n",
    "print(cm_kNN)\n",
    "print(round(accuracy_score(y_test, predictions), \n",
    "4))\n",
    "\n",
    "plt.imshow(cm_kNN, interpolation = 'nearest', cmap = plt.cm.Wistia)\n",
    "classNames = ['Negative', 'Positive']\n",
    "plt.title('Confusion Matrix - Test Data')\n",
    "plt.ylabel('True label')\n",
    "plt.xlabel('Predicted label')\n",
    "tick_marks = np.arange(len(classNames))\n",
    "plt.xticks(tick_marks, classNames, rotation = 45)\n",
    "plt.yticks(tick_marks, classNames)\n",
    "s = [['TN', 'FP'], ['FN', 'TP']]\n",
    "for i in range(2):\n",
    "    for j in range(2):\n",
    "        plt.text(j,i, str(s[i][j]) + \" = \" + str(cm_kNN[i][j]))\n",
    "plt.show()"
   ]
  },
  {
   "cell_type": "code",
   "execution_count": 11,
   "id": "83d475a2",
   "metadata": {},
   "outputs": [
    {
     "name": "stdout",
     "output_type": "stream",
     "text": [
      "     metrics  values  model\n",
      "0  precision  0.7259  kNN_k\n"
     ]
    },
    {
     "data": {
      "image/png": "[encoded data removed]",
      "text/plain": [
       "<Figure size 432x288 with 1 Axes>"
      ]
     },
     "metadata": {
      "needs_background": "light"
     },
     "output_type": "display_data"
    }
   ],
   "source": [
    "model_final_dict = {'metrics': [\"precision\"],\n",
    "                    'values':[round(accuracy_score(y_test, predictions), 4)],\n",
    "                    'model':['kNN_k']}\n",
    "model_final = pd.DataFrame(data = model_final_dict)\n",
    "print(model_final)\n",
    "\n",
    "\n",
    "\n",
    "fpr, tpr, threshold = metrics.roc_curve(y_test, predictions)\n",
    "roc_auc = metrics.auc(fpr, tpr)\n",
    "plt.title('Receiver Operating Characteristic')\n",
    "plt.plot(fpr, tpr, 'b', label = 'AUC = %0.2f' % roc_auc)\n",
    "plt.legend(loc = 'lower right')\n",
    "plt.plot([0, 1], [0, 1],'r--')\n",
    "plt.xlim([0, 1])\n",
    "plt.ylim([0, 1])\n",
    "plt.ylabel('True Positive Rate')\n",
    "plt.xlabel('False Positive Rate')\n",
    "plt.show()"
   ]
  },
  {
   "cell_type": "code",
   "execution_count": 12,
   "id": "97adbb78",
   "metadata": {},
   "outputs": [
    {
     "name": "stdout",
     "output_type": "stream",
     "text": [
      "[0.71323168 0.75356616 0.79783571 0.79094934 0.72798819]\n",
      "cv_scores mean:0.756714215445155\n",
      "Optimal cv score is: 0.7567\n"
     ]
    }
   ],
   "source": [
    "cv_pipeline = Pipeline([('transformer',  StandardScaler()), ('estimator', kNN)])\n",
    "cv_scores = cross_val_score(cv_pipeline, X, y, cv = 5)\n",
    "print(cv_scores)\n",
    "print(\"cv_scores mean:{}\".format(np.mean(cv_scores)))\n",
    "mean = np.mean(cv_scores)\n",
    "print(\"Optimal cv score is:\", round(mean, 4))"
   ]
  },
  {
   "cell_type": "markdown",
   "id": "da4c0b2c",
   "metadata": {},
   "source": [
    "GridSearch CV for finding optimal k"
   ]
  },
  {
   "cell_type": "code",
   "execution_count": 13,
   "id": "c767fdd1",
   "metadata": {},
   "outputs": [
    {
     "name": "stdout",
     "output_type": "stream",
     "text": [
      "{'n_neighbors': [1, 2, 3, 4, 5, 6, 7, 8, 9, 10, 11, 12, 13, 14, 15, 16, 17, 18, 19, 20, 21, 22, 23, 24, 25, 26, 27, 28, 29, 30]}\n",
      "[0.85855109 0.7837822  0.79096424 0.77020388 0.77876251 0.76951567\n",
      " 0.76636481 0.75623214 0.75347788 0.74629478 0.74216218 0.73537713\n",
      " 0.72799698 0.71993163 0.71855436 0.71816085 0.7158961  0.71599405\n",
      " 0.71265088 0.71146939 0.71245393 0.71678067 0.71205626 0.71186019\n",
      " 0.7075318  0.70772914 0.69946306 0.70359567 0.70015214 0.69985725]\n",
      "[0.8585510881936218, 0.7837821986853414, 0.790964237877345, 0.7702038766171928, 0.7787625136459713, 0.7695156744787433, 0.766364810040338, 0.7562321441014562, 0.7534778838485897, 0.7462947800772692, 0.7421621799487453, 0.7353771320620321, 0.7279969843371348, 0.7199316346518632, 0.718554359355523, 0.7181608521279973, 0.715896104801059, 0.7159940460982199, 0.7126508799231954, 0.7114693904412391, 0.7124539327495568, 0.71678067343352, 0.712056263984701, 0.7118601878305035, 0.707531801887596, 0.7077291361809862, 0.6994630649044975, 0.7035956650330213, 0.7001521380623882, 0.6998572495915887]\n"
     ]
    },
    {
     "data": {
      "image/png": "[encoded data removed]",
      "text/plain": [
       "<Figure size 432x288 with 1 Axes>"
      ]
     },
     "metadata": {
      "needs_background": "light"
     },
     "output_type": "display_data"
    }
   ],
   "source": [
    "k_range = list(range(1, 31))\n",
    "param_grid = dict(n_neighbors = k_range)\n",
    "print(param_grid)\n",
    "grid = GridSearchCV(kNN, param_grid, cv = 10, scoring = 'accuracy')\n",
    "\n",
    "\n",
    "grid_search_pipeline = Pipeline([('transformer',  StandardScaler()), ('estimator', grid)])\n",
    "grid_search_pipeline.fit(X, y)\n",
    "print(grid.cv_results_['mean_test_score'])\n",
    "\n",
    "grid_mean_scores = [result for result in grid.cv_results_['mean_test_score']]\n",
    "print(grid_mean_scores)\n",
    "\n",
    "\n",
    "_ = plt.plot(k_range, grid_mean_scores)\n",
    "_ = plt.xlabel('Value of K for kNN')\n",
    "_ = plt.ylabel('Cross-Validated Accuracy')\n",
    "plt.show()"
   ]
  },
  {
   "cell_type": "code",
   "execution_count": 14,
   "id": "ffed07c7",
   "metadata": {},
   "outputs": [
    {
     "name": "stdout",
     "output_type": "stream",
     "text": [
      "0.8585510881936218\n",
      "{'n_neighbors': 1}\n",
      "KNeighborsClassifier(n_neighbors=1)\n"
     ]
    }
   ],
   "source": [
    "print(grid.best_score_)\n",
    "grid_score = grid.best_score_\n",
    "print(grid.best_params_)\n",
    "print(grid.best_estimator_)"
   ]
  },
  {
   "cell_type": "code",
   "execution_count": 15,
   "id": "8165eb6c",
   "metadata": {},
   "outputs": [
    {
     "name": "stdout",
     "output_type": "stream",
     "text": [
      "     metrics  values             model\n",
      "0  precision  0.7259             kNN_k\n",
      "1  precision  0.8586  kNN_GridSearchCV\n"
     ]
    },
    {
     "name": "stderr",
     "output_type": "stream",
     "text": [
      "C:\\Users\\625737\\AppData\\Local\\Temp\\ipykernel_35372\\1972754243.py:1: FutureWarning:\n",
      "\n",
      "The frame.append method is deprecated and will be removed from pandas in a future version. Use pandas.concat instead.\n",
      "\n"
     ]
    }
   ],
   "source": [
    "model_final = model_final.append({'metrics' : \"precision\" , \n",
    "                                  'values' : round(grid_score, 4),\n",
    "                                  'model':'kNN_GridSearchCV' } , \n",
    "                                  ignore_index = True)\n",
    "print(model_final)"
   ]
  },
  {
   "cell_type": "code",
   "execution_count": 16,
   "id": "0e127488",
   "metadata": {},
   "outputs": [
    {
     "name": "stdout",
     "output_type": "stream",
     "text": [
      "0.9819672131147541\n"
     ]
    }
   ],
   "source": [
    "kNN_best = grid.best_estimator_\n",
    "print(kNN_best.score(X_test, y_test))\n",
    "kNN_champ = kNN_best.score(X_test, y_test)"
   ]
  },
  {
   "cell_type": "code",
   "execution_count": 17,
   "id": "48a7b60e",
   "metadata": {},
   "outputs": [
    {
     "name": "stdout",
     "output_type": "stream",
     "text": [
      "     metrics  values             model\n",
      "0  precision  0.7259             kNN_k\n",
      "1  precision  0.8586  kNN_GridSearchCV\n",
      "2  precision  0.9820     kNN_optimized\n"
     ]
    },
    {
     "name": "stderr",
     "output_type": "stream",
     "text": [
      "C:\\Users\\625737\\AppData\\Local\\Temp\\ipykernel_35372\\1870023099.py:1: FutureWarning:\n",
      "\n",
      "The frame.append method is deprecated and will be removed from pandas in a future version. Use pandas.concat instead.\n",
      "\n"
     ]
    }
   ],
   "source": [
    "model_final = model_final.append({'metrics' : \"precision\" , \n",
    "                                  'values' : round(kNN_champ, 4),\n",
    "                                  'model':'kNN_optimized' },\n",
    "                                 ignore_index= True)\n",
    "print(model_final)"
   ]
  },
  {
   "cell_type": "markdown",
   "id": "ee39198f",
   "metadata": {},
   "source": [
    "kNN optimized most likely is overfitted due to the high accuracy score"
   ]
  },
  {
   "cell_type": "markdown",
   "id": "8a68a422",
   "metadata": {},
   "source": [
    "# Logistic Regression"
   ]
  },
  {
   "cell_type": "code",
   "execution_count": 18,
   "id": "254cc581",
   "metadata": {},
   "outputs": [],
   "source": [
    "import warnings\n",
    "warnings.filterwarnings(\"ignore\", category=FutureWarning)\n",
    "from sklearn import linear_model\n",
    "from sklearn import metrics\n",
    "from sklearn import preprocessing"
   ]
  },
  {
   "cell_type": "code",
   "execution_count": 19,
   "id": "45b43cbc",
   "metadata": {},
   "outputs": [
    {
     "name": "stdout",
     "output_type": "stream",
     "text": [
      "LogisticRegression()\n",
      "[ True  True  True  True  True False  True  True  True  True  True  True\n",
      "  True  True  True  True  True  True False  True]\n"
     ]
    }
   ],
   "source": [
    "X_train, X_test, y_train, y_test = train_test_split(X, y, test_size = .3)\n",
    "\n",
    "scaler = preprocessing.MinMaxScaler()\n",
    "scaler.fit(X_train)\n",
    "X_train_scaled = scaler.transform(X_train)\n",
    "X_test_scaled = scaler.transform(X_test)\n",
    "\n",
    "logistic_regression_model = linear_model.LogisticRegression()\n",
    "print(logistic_regression_model)\n",
    "logistic_regression_model.fit(X_train_scaled, y_train)\n",
    "predicted_values = logistic_regression_model.predict(X_test_scaled)\n",
    "print(predicted_values[:20])"
   ]
  },
  {
   "cell_type": "code",
   "execution_count": 20,
   "id": "e8531493",
   "metadata": {},
   "outputs": [
    {
     "name": "stdout",
     "output_type": "stream",
     "text": [
      "[[  41 1274]\n",
      " [  26 1709]]\n",
      "Accuracy on test data:  0.5737704918032787\n"
     ]
    }
   ],
   "source": [
    "#Confusion matrix\n",
    "conf_matrix_test = metrics.confusion_matrix(y_test, predicted_values)\n",
    "print(conf_matrix_test)\n",
    "test_accuracy_score = metrics.accuracy_score(y_test, predicted_values)\n",
    "print(\"Accuracy on test data: \", test_accuracy_score)"
   ]
  },
  {
   "cell_type": "code",
   "execution_count": 21,
   "id": "4b8a7cc9",
   "metadata": {},
   "outputs": [
    {
     "name": "stdout",
     "output_type": "stream",
     "text": [
      "              precision    recall  f1-score   support\n",
      "\n",
      "       False       0.61      0.03      0.06      1315\n",
      "        True       0.57      0.99      0.72      1735\n",
      "\n",
      "    accuracy                           0.57      3050\n",
      "   macro avg       0.59      0.51      0.39      3050\n",
      "weighted avg       0.59      0.57      0.44      3050\n",
      "\n"
     ]
    }
   ],
   "source": [
    "target_names = lego_subset['star_rating'].unique()\n",
    "target_names=target_names.tolist()\n",
    "target_names = [str(x) for x in target_names]\n",
    "\n",
    "class_report = metrics.classification_report(y_test, \n",
    "                                             predicted_values, \n",
    "                                             target_names = target_names)\n",
    "print(class_report)"
   ]
  },
  {
   "cell_type": "code",
   "execution_count": 22,
   "id": "f8bbe501",
   "metadata": {},
   "outputs": [
    {
     "name": "stdout",
     "output_type": "stream",
     "text": [
      "     metrics  values             model\n",
      "0  precision  0.7259             kNN_k\n",
      "1  precision  0.8586  kNN_GridSearchCV\n",
      "2  precision  0.9820     kNN_optimized\n",
      "3  precision  0.5738          logistic\n"
     ]
    }
   ],
   "source": [
    "model_final = model_final.append({'metrics' : \"precision\" , \n",
    "                'values' : round(test_accuracy_score,4),\n",
    "                'model':'logistic' },\n",
    "                ignore_index= True)\n",
    "print(model_final)"
   ]
  },
  {
   "cell_type": "code",
   "execution_count": null,
   "id": "d071d6ea",
   "metadata": {},
   "outputs": [],
   "source": []
  },
  {
   "cell_type": "code",
   "execution_count": null,
   "id": "d38867a4",
   "metadata": {},
   "outputs": [],
   "source": []
  },
  {
   "cell_type": "code",
   "execution_count": null,
   "id": "d93a34ba",
   "metadata": {},
   "outputs": [],
   "source": []
  },
  {
   "cell_type": "code",
   "execution_count": null,
   "id": "ad697494",
   "metadata": {},
   "outputs": [],
   "source": []
  }
 ],
 "metadata": {
  "kernelspec": {
   "display_name": "Python 3 (ipykernel)",
   "language": "python",
   "name": "python3"
  },
  "language_info": {
   "codemirror_mode": {
    "name": "ipython",
    "version": 3
   },
   "file_extension": ".py",
   "mimetype": "text/x-python",
   "name": "python",
   "nbconvert_exporter": "python",
   "pygments_lexer": "ipython3",
   "version": "3.9.12"
  }
 },
 "nbformat": 4,
 "nbformat_minor": 5
}
